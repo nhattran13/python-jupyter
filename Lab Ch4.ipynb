{
 "cells": [
  {
   "cell_type": "markdown",
   "id": "e022efe7-b309-4964-84bb-f01de3c527df",
   "metadata": {},
   "source": [
    "## Calories Burned\n",
    "Running on particular treadmill you burn 4.2 calories per minute. Write a program that uses a loop to display the number of calories burned after 10, 15, 20, 25, and 30 minutes."
   ]
  },
  {
   "cell_type": "code",
   "execution_count": 3,
   "id": "8b3ef723-2133-4b02-9240-8945a208d201",
   "metadata": {},
   "outputs": [
    {
     "name": "stdin",
     "output_type": "stream",
     "text": [
      "How long did you exercise? Enter exit to end 0\n"
     ]
    },
    {
     "name": "stdout",
     "output_type": "stream",
     "text": [
      "Please enter a number that list: 10,15,20,25,30.\n"
     ]
    },
    {
     "name": "stdin",
     "output_type": "stream",
     "text": [
      "How long did you exercise? Enter exit to end 10\n"
     ]
    },
    {
     "name": "stdout",
     "output_type": "stream",
     "text": [
      "You have burned 42.0 calories!\n"
     ]
    },
    {
     "name": "stdin",
     "output_type": "stream",
     "text": [
      "How long did you exercise? Enter exit to end 30\n"
     ]
    },
    {
     "name": "stdout",
     "output_type": "stream",
     "text": [
      "You have burned 126.0 calories!\n"
     ]
    },
    {
     "name": "stdin",
     "output_type": "stream",
     "text": [
      "How long did you exercise? Enter exit to end asdfsdf\n"
     ]
    },
    {
     "name": "stdout",
     "output_type": "stream",
     "text": [
      "Please enter a positive number!\n"
     ]
    },
    {
     "name": "stdin",
     "output_type": "stream",
     "text": [
      "How long did you exercise? Enter exit to end exit\n"
     ]
    }
   ],
   "source": [
    "CaloPerMin = 4.2;\n",
    "user_input = input('How long did you exercise? Enter exit to end');\n",
    "while user_input != 'exit':\n",
    "    if user_input.isdigit():\n",
    "        if int(user_input) == 10:\n",
    "            print(f'You have burned {10 * CaloPerMin} calories!');\n",
    "        elif int(user_input) == 15:\n",
    "            print(f'You have burned {15 * CaloPerMin} calories!');\n",
    "        elif int(user_input) == 20:\n",
    "            print(f'You have burned {20 * CaloPerMin} calories!');\n",
    "        elif int(user_input) == 25:\n",
    "            print(f'You have burned {25 * CaloPerMin} calories!');\n",
    "        elif int(user_input) == 30:\n",
    "            print(f'You have burned {30 * CaloPerMin} calories!');\n",
    "        else:\n",
    "            print('Please enter a number that list: 10,15,20,25,30.');\n",
    "    else:\n",
    "        print('Please enter a positive number!');\n",
    "    user_input = input('How long did you exercise? Enter exit to end');"
   ]
  },
  {
   "cell_type": "markdown",
   "id": "cf5cd7ef-1e38-4da8-9182-ca072467d32b",
   "metadata": {},
   "source": [
    "## Sum of Numbers\n",
    "A program with a loop that asks the user to enter a series of positive numbers. The user should enter a negative number to signal the end of the series. After all the positive numbers have been entered, the program should display their sum."
   ]
  },
  {
   "cell_type": "code",
   "execution_count": 7,
   "id": "aa692c11-2416-4487-96cb-5583f2215c6b",
   "metadata": {},
   "outputs": [
    {
     "name": "stdin",
     "output_type": "stream",
     "text": [
      "Enter a number:  0\n",
      "Enter a number:  23423\n",
      "Enter a number:  2312\n",
      "Enter a number:  -112\n"
     ]
    },
    {
     "name": "stdout",
     "output_type": "stream",
     "text": [
      "The sum of positive numbers is: 25735.0\n"
     ]
    }
   ],
   "source": [
    "user_input = int(input('Enter a number: '));\n",
    "total = 0.0;\n",
    "while user_input >=0: \n",
    "    total += user_input;\n",
    "    user_input = int(input('Enter a number: '));\n",
    "print(f'The sum of positive numbers is: {total}');"
   ]
  },
  {
   "cell_type": "markdown",
   "id": "35ae0a86-6c5a-4ee0-8733-53a0035a62a3",
   "metadata": {},
   "source": [
    "## Ocean Levals\n",
    "Assuming the ocean's level is currently rising at about 1.6 millimeters per year create an application that displays the number of millimeters that the ocean will have risen each year for the next 25 years."
   ]
  },
  {
   "cell_type": "code",
   "execution_count": 13,
   "id": "00302596-287c-4e4a-94c7-a82dbcd3e8c4",
   "metadata": {},
   "outputs": [
    {
     "name": "stdin",
     "output_type": "stream",
     "text": [
      "Enter a year between 0 and 25:  -1\n",
      "Please enter a positive enter between 0 and 25:  25\n"
     ]
    },
    {
     "name": "stdout",
     "output_type": "stream",
     "text": [
      "In year 25, the ocean level will rise about 40.0 millimeters!\n"
     ]
    },
    {
     "name": "stdin",
     "output_type": "stream",
     "text": [
      "Enter a year between 0 and 25:  26\n",
      "Please enter a positive enter between 0 and 25:  -1\n",
      "Please enter a positive enter between 0 and 25:  asdf\n",
      "Please enter a positive enter between 0 and 25:  eixt\n",
      "Please enter a positive enter between 0 and 25:  exit\n"
     ]
    }
   ],
   "source": [
    "RisePerYear = 1.6;\n",
    "user_input = input('Enter a year between 0 and 25: ');\n",
    "while user_input != 'exit':\n",
    "    if user_input.isdigit() and int(user_input) <=25:\n",
    "        print(f'In year {user_input}, the ocean level will rise about {int(user_input) * RisePerYear} millimeters!');\n",
    "        user_input = input('Enter a year between 0 and 25: ');\n",
    "    else:\n",
    "        user_input = input('Please enter a positive enter between 0 and 25: ');"
   ]
  },
  {
   "cell_type": "markdown",
   "id": "9c1903e1-f7cf-462d-8a35-cef589fd8c2b",
   "metadata": {},
   "source": [
    "## Tuition Increase\n",
    "College the tuition for a full-time is $8,000 it has been announced that the tuition will increase by 3% each year for the next 5 years. Write a program with a loop that displays the projected semester tuition amount for the next 5 years."
   ]
  },
  {
   "cell_type": "code",
   "execution_count": 19,
   "id": "799c387a-e103-47a4-b61c-a855f17aa8db",
   "metadata": {},
   "outputs": [
    {
     "name": "stdin",
     "output_type": "stream",
     "text": [
      "Enter a year between 0 and 5:  6\n",
      "Please enter a positive enter between 0 and 5:  5\n"
     ]
    },
    {
     "name": "stdout",
     "output_type": "stream",
     "text": [
      "In year 5, the tuition will be $9200.0 !\n"
     ]
    },
    {
     "name": "stdin",
     "output_type": "stream",
     "text": [
      "Enter a year between 0 and 5:  exit\n"
     ]
    }
   ],
   "source": [
    "RisePerYear = .03;\n",
    "user_input = input('Enter a year between 0 and 5: ');\n",
    "while user_input != 'exit':\n",
    "    if user_input.isdigit() and int(user_input) <=5:\n",
    "        print(f'In year {user_input}, the tuition will be ${int(user_input) * (RisePerYear * 8000) + 8000} !');\n",
    "        user_input = input('Enter a year between 0 and 5: ');\n",
    "    else:\n",
    "        user_input = input('Please enter a positive enter between 0 and 5: ');"
   ]
  },
  {
   "attachments": {
    "705b5876-97d3-432e-8468-66cbfe0037a8.png": {
     "image/png": "[encoded data removed]"
    }
   },
   "cell_type": "markdown",
   "id": "ca71454c-2118-443f-8fea-3d73596c67a0",
   "metadata": {},
   "source": [
    "## Turtle Graphics\n",
    "Write a program that uses nested loops to draw the following pattern.\n",
    "\n",
    "![image.png](attachment:705b5876-97d3-432e-8468-66cbfe0037a8.png)"
   ]
  }
 ],
 "metadata": {
  "kernelspec": {
   "display_name": "Python 3 (ipykernel)",
   "language": "python",
   "name": "python3"
  },
  "language_info": {
   "codemirror_mode": {
    "name": "ipython",
    "version": 3
   },
   "file_extension": ".py",
   "mimetype": "text/x-python",
   "name": "python",
   "nbconvert_exporter": "python",
   "pygments_lexer": "ipython3",
   "version": "3.12.4"
  }
 },
 "nbformat": 4,
 "nbformat_minor": 5
}
